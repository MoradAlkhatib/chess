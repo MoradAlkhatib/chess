{
 "cells": [
  {
   "cell_type": "code",
   "execution_count": 17,
   "metadata": {},
   "outputs": [
    {
     "name": "stdout",
     "output_type": "stream",
     "text": [
      "False\n"
     ]
    },
    {
     "data": {
      "image/png": "[encoded data removed]",
      "text/plain": [
       "<Figure size 432x288 with 1 Axes>"
      ]
     },
     "metadata": {
      "needs_background": "light"
     },
     "output_type": "display_data"
    }
   ],
   "source": [
    "import numpy as np\n",
    "import matplotlib.pyplot as plt\n",
    "\n",
    "class Chess_board:\n",
    "    def __init__(self):\n",
    "        self.grid = np.zeros([8,8,3])\n",
    "        for coord in np.ndindex(8,8):\n",
    "            if coord[0]%2 != coord[1]%2:\n",
    "                self.grid[coord[0],coord[1]] = [1,1,1]\n",
    "    \n",
    "    def add_blue(self, row, col):\n",
    "        self.x_blue=row\n",
    "        self.y_blue=col\n",
    "        self.grid[row,col] = [0,0,1]\n",
    "    \n",
    "    def add_red(self, row, col):\n",
    "        self.x_red=row\n",
    "        self.y_red=col\n",
    "        self.grid[row,col] = [1,0,0]\n",
    "          \n",
    "    def render(self):\n",
    "        plt.imshow(self.grid)\n",
    "\n",
    "    def is_under_attack(self):\n",
    "\n",
    "        if self.x_blue==self.x_red or self.y_blue==self.y_red:\n",
    "            return True\n",
    "        elif abs(self.x_blue - self.x_red) == abs(self.y_blue - self.y_red):\n",
    "            return True\n",
    "        else:\n",
    "            return False \n",
    "    \n",
    "    \n",
    "   \n",
    "\n",
    "\n",
    "board = Chess_board()\n",
    "board.add_blue(5,6)\n",
    "board.add_red(6,4)\n",
    "print(board.is_under_attack())\n",
    "board.render()\n"
   ]
  },
  {
   "cell_type": "code",
   "execution_count": 23,
   "metadata": {},
   "outputs": [
    {
     "name": "stdout",
     "output_type": "stream",
     "text": [
      "True\n"
     ]
    },
    {
     "data": {
      "image/png": "[encoded data removed]",
      "text/plain": [
       "<Figure size 432x288 with 1 Axes>"
      ]
     },
     "metadata": {
      "needs_background": "light"
     },
     "output_type": "display_data"
    }
   ],
   "source": [
    "def same_row():\n",
    "    chess=Chess_board()\n",
    "    chess.add_red(1,3)\n",
    "    chess.add_blue(1,5)\n",
    "    chess.render()  \n",
    "    expected=True\n",
    "    actul=chess.is_under_attack()\n",
    "    assert expected==actul\n",
    "    print(actul) \n",
    "same_row()"
   ]
  },
  {
   "cell_type": "code",
   "execution_count": 22,
   "metadata": {},
   "outputs": [
    {
     "name": "stdout",
     "output_type": "stream",
     "text": [
      "True\n"
     ]
    },
    {
     "data": {
      "image/png": "[encoded data removed]",
      "text/plain": [
       "<Figure size 432x288 with 1 Axes>"
      ]
     },
     "metadata": {
      "needs_background": "light"
     },
     "output_type": "display_data"
    }
   ],
   "source": [
    "def same_column():\n",
    "    chess=Chess_board()\n",
    "    chess.add_red(1,3)\n",
    "    chess.add_blue(3,3)\n",
    "    chess.render()  \n",
    "    expected=True\n",
    "    actul=chess.is_under_attack()\n",
    "    assert expected==actul\n",
    "    print(actul) \n",
    "same_column()"
   ]
  },
  {
   "cell_type": "code",
   "execution_count": 21,
   "metadata": {},
   "outputs": [
    {
     "name": "stdout",
     "output_type": "stream",
     "text": [
      "True\n"
     ]
    },
    {
     "data": {
      "image/png": "[encoded data removed]",
      "text/plain": [
       "<Figure size 432x288 with 1 Axes>"
      ]
     },
     "metadata": {
      "needs_background": "light"
     },
     "output_type": "display_data"
    }
   ],
   "source": [
    "def diagonal():\n",
    "    chess=Chess_board()\n",
    "    chess.add_red(1,3)\n",
    "    chess.add_blue(0,2)\n",
    "    chess.render()  \n",
    "    expected=True\n",
    "    actul=chess.is_under_attack()\n",
    "    assert expected==actul\n",
    "    print(actul) \n",
    "diagonal()"
   ]
  },
  {
   "cell_type": "code",
   "execution_count": 19,
   "metadata": {},
   "outputs": [
    {
     "name": "stdout",
     "output_type": "stream",
     "text": [
      "False\n"
     ]
    },
    {
     "data": {
      "image/png": "[encoded data removed]",
      "text/plain": [
       "<Figure size 432x288 with 1 Axes>"
      ]
     },
     "metadata": {
      "needs_background": "light"
     },
     "output_type": "display_data"
    }
   ],
   "source": [
    "def diagonal():\n",
    "    chess=Chess_board()\n",
    "    chess.add_red(1,3)\n",
    "    chess.add_blue(2,0)\n",
    "    chess.render()  \n",
    "    expected=False\n",
    "    actul=chess.is_under_attack()\n",
    "    assert expected==actul\n",
    "    print(actul) \n",
    "diagonal()"
   ]
  }
 ],
 "metadata": {
  "interpreter": {
   "hash": "75e40ee53d9b4bb38460511f87a9c9b2e823093d4060fdbe395a19f396dc0574"
  },
  "kernelspec": {
   "display_name": "Python 3.9.5 64-bit ('.venv': poetry)",
   "name": "python3"
  },
  "language_info": {
   "codemirror_mode": {
    "name": "ipython",
    "version": 3
   },
   "file_extension": ".py",
   "mimetype": "text/x-python",
   "name": "python",
   "nbconvert_exporter": "python",
   "pygments_lexer": "ipython3",
   "version": "3.9.5"
  },
  "orig_nbformat": 4
 },
 "nbformat": 4,
 "nbformat_minor": 2
}
